{
 "cells": [
  {
   "cell_type": "markdown",
   "id": "59586fb1",
   "metadata": {},
   "source": [
    "# Import Packages"
   ]
  },
  {
   "cell_type": "code",
   "execution_count": 1,
   "id": "5b171155",
   "metadata": {},
   "outputs": [],
   "source": [
    "import fitz\n",
    "import numpy as np\n",
    "import pandas as pd"
   ]
  },
  {
   "cell_type": "markdown",
   "id": "46940776",
   "metadata": {},
   "source": [
    "## Read Data File"
   ]
  },
  {
   "cell_type": "code",
   "execution_count": 2,
   "id": "123bf97f",
   "metadata": {},
   "outputs": [],
   "source": [
    "def read_pdf(pdf_path):\n",
    "    with fitz.open(pdf) as doc:\n",
    "        text = \"\"\n",
    "        for page in doc:\n",
    "            text += page.get_text()\n",
    "        return text"
   ]
  },
  {
   "cell_type": "code",
   "execution_count": 3,
   "id": "1c18110d",
   "metadata": {},
   "outputs": [],
   "source": [
    "pdf = \"PreScreen_DSAI_r3.pdf\""
   ]
  },
  {
   "cell_type": "code",
   "execution_count": 4,
   "id": "160a3b78",
   "metadata": {},
   "outputs": [],
   "source": [
    "pdf_string = read_pdf(pdf_path=pdf)"
   ]
  },
  {
   "cell_type": "code",
   "execution_count": 5,
   "id": "0d964b10",
   "metadata": {},
   "outputs": [
    {
     "name": "stdout",
     "output_type": "stream",
     "text": [
      " \n",
      "Analytics Evaluation \n",
      "Instructions :  \n",
      " Q1 & Q2 are mandatory, Q3 is bonus if attempted.   \n",
      " Do the analytics in cloud where possible (free trial versions).   \n",
      " Other methods are also acceptable. \n",
      " Do include documentations.     \n",
      "Azure : https://studio.azureml.net/  \n",
      "IBM Cognos : https://www.ibm.com/products/cognos-analytics \n",
      " \n",
      "1. A customer informed their consultant that they have developed several formulations of petrol \n",
      "that gives different characteristics of burning pattern.  The formulations are obtaining by adding \n",
      "varying levels of additives that, for example, prevent engine knocking, gum prevention, stability \n",
      "in storage, and etc.  However, a third party certification organisation would like to verify if the \n",
      "formulations are significantly different, and request for both physical and statistical proof.  Since \n",
      "the formulations are confidential information, they are not named in the dataset.   \n",
      "Please assist the consultant in the area of statistical analysis by doing this; \n",
      "a. A descriptive analysis of the additives (columns named as “a” to “i”), which must include \n",
      "summaries of findings (parametric/non-parametric).  Correlation and ANOVA, if applicable, is \n",
      "a must. \n",
      " \n",
      "b. A graphical analysis of the additives, including a distribution study. \n",
      " \n",
      "c. A clustering test of your choice (unsupervised learning), to determine the distinctive number \n",
      "of formulations present in the dataset. \n",
      "(refer attachment : ingredients.csv) \n",
      " \n",
      " \n",
      "2. A team of plantation planners are concerned about the yield of oil palm trees, which seems to \n",
      "fluctuate.  They have collected a set of data and needed help in analysing on how external \n",
      "factors influence fresh fruit bunch (FFB) yield.  Some experts are of opinion that the flowering of \n",
      "oil palm tree determines the FFB yield, and are linked to the external factors.  Perform the \n",
      "analysis, which requires some study on the background of oil palm tree physiology.  \n",
      "(refer attachment palm_ffb.csv) \n",
      " \n",
      " \n",
      " \n",
      " \n",
      " \n",
      " \n",
      " \n",
      " \n",
      " \n",
      "3. Feed the following paragraph into your favourite data analytics tool, and answer the following; \n",
      " \n",
      "a. What is the probability of the word “data” occurring in each line ? \n",
      "b. What is the distribution of distinct word counts across all the lines ?   \n",
      "c. What is the probability of the word “analytics” occurring after the word “data” ?  \n",
      "================================================================================== \n",
      " \n",
      "As a term, data analytics predominantly refers to an assortment of applications, from basic business \n",
      "intelligence (BI), reporting and online analytical processing (OLAP) to various forms of advanced \n",
      "analytics. In that sense, it's similar in nature to business analytics, another umbrella term for \n",
      "approaches to analyzing data -- with the difference that the latter is oriented to business uses, while \n",
      "data analytics has a broader focus. The expansive view of the term isn't universal, though: In some \n",
      "cases, people use data analytics specifically to mean advanced analytics, treating BI as a separate \n",
      "category.  Data analytics initiatives can help businesses increase revenues, improve operational \n",
      "efficiency, optimize marketing campaigns and customer service efforts, respond more quickly to \n",
      "emerging market trends and gain a competitive edge over rivals -- all with the ultimate goal of \n",
      "boosting business performance. Depending on the particular application, the data that's analyzed \n",
      "can consist of either historical records or new information that has been processed for real-time \n",
      "analytics uses. In addition, it can come from a mix of internal systems and external data sources.  At \n",
      "a high level, data analytics methodologies include exploratory data analysis (EDA), which aims to find \n",
      "patterns and relationships in data, and confirmatory data analysis (CDA), which applies statistical \n",
      "techniques to determine whether hypotheses about a data set are true or false. EDA is often \n",
      "compared to detective work, while CDA is akin to the work of a judge or jury during a court trial -- a \n",
      "distinction first drawn by statistician John W. Tukey in his 1977 book Exploratory Data Analysis.  Data \n",
      "analytics can also be separated into quantitative data analysis and qualitative data analysis. The \n",
      "former involves analysis of numerical data with quantifiable variables that can be compared or \n",
      "measured statistically. The qualitative approach is more interpretive -- it focuses on understanding \n",
      "the content of non-numerical data like text, images, audio and video, including common phrases, \n",
      "themes and points of view. \n",
      " \n",
      "\n"
     ]
    }
   ],
   "source": [
    "pdf_string = pdf_string.replace(\"\\n \\n \\n\", \"\\n\") # Remove multiple next line characters\n",
    "print(pdf_string)"
   ]
  },
  {
   "cell_type": "code",
   "execution_count": 6,
   "id": "f5064382",
   "metadata": {},
   "outputs": [],
   "source": [
    "paragraph = pdf_string.split(\"=\")[-1].strip()\n",
    "paragraph = paragraph.lower()"
   ]
  },
  {
   "cell_type": "code",
   "execution_count": 7,
   "id": "a840e9a9",
   "metadata": {},
   "outputs": [
    {
     "name": "stdout",
     "output_type": "stream",
     "text": [
      "as a term, data analytics predominantly refers to an assortment of applications, from basic business \n",
      "intelligence (bi), reporting and online analytical processing (olap) to various forms of advanced \n",
      "analytics. in that sense, it's similar in nature to business analytics, another umbrella term for \n",
      "approaches to analyzing data -- with the difference that the latter is oriented to business uses, while \n",
      "data analytics has a broader focus. the expansive view of the term isn't universal, though: in some \n",
      "cases, people use data analytics specifically to mean advanced analytics, treating bi as a separate \n",
      "category.  data analytics initiatives can help businesses increase revenues, improve operational \n",
      "efficiency, optimize marketing campaigns and customer service efforts, respond more quickly to \n",
      "emerging market trends and gain a competitive edge over rivals -- all with the ultimate goal of \n",
      "boosting business performance. depending on the particular application, the data that's analyzed \n",
      "can consist of either historical records or new information that has been processed for real-time \n",
      "analytics uses. in addition, it can come from a mix of internal systems and external data sources.  at \n",
      "a high level, data analytics methodologies include exploratory data analysis (eda), which aims to find \n",
      "patterns and relationships in data, and confirmatory data analysis (cda), which applies statistical \n",
      "techniques to determine whether hypotheses about a data set are true or false. eda is often \n",
      "compared to detective work, while cda is akin to the work of a judge or jury during a court trial -- a \n",
      "distinction first drawn by statistician john w. tukey in his 1977 book exploratory data analysis.  data \n",
      "analytics can also be separated into quantitative data analysis and qualitative data analysis. the \n",
      "former involves analysis of numerical data with quantifiable variables that can be compared or \n",
      "measured statistically. the qualitative approach is more interpretive -- it focuses on understanding \n",
      "the content of non-numerical data like text, images, audio and video, including common phrases, \n",
      "themes and points of view.\n"
     ]
    }
   ],
   "source": [
    "print(paragraph)"
   ]
  },
  {
   "cell_type": "markdown",
   "id": "8cb5b32e",
   "metadata": {},
   "source": [
    "### 3a) What is the probability of the word “data” occurring in each line?"
   ]
  },
  {
   "cell_type": "code",
   "execution_count": 8,
   "id": "ee6267fc",
   "metadata": {},
   "outputs": [
    {
     "data": {
      "text/plain": [
       "['as a term, data analytics predominantly refers to an assortment of applications, from basic business ',\n",
       " 'intelligence (bi), reporting and online analytical processing (olap) to various forms of advanced ',\n",
       " \"analytics. in that sense, it's similar in nature to business analytics, another umbrella term for \",\n",
       " 'approaches to analyzing data -- with the difference that the latter is oriented to business uses, while ',\n",
       " \"data analytics has a broader focus. the expansive view of the term isn't universal, though: in some \",\n",
       " 'cases, people use data analytics specifically to mean advanced analytics, treating bi as a separate ',\n",
       " 'category.  data analytics initiatives can help businesses increase revenues, improve operational ',\n",
       " 'efficiency, optimize marketing campaigns and customer service efforts, respond more quickly to ',\n",
       " 'emerging market trends and gain a competitive edge over rivals -- all with the ultimate goal of ',\n",
       " \"boosting business performance. depending on the particular application, the data that's analyzed \",\n",
       " 'can consist of either historical records or new information that has been processed for real-time ',\n",
       " 'analytics uses. in addition, it can come from a mix of internal systems and external data sources.  at ',\n",
       " 'a high level, data analytics methodologies include exploratory data analysis (eda), which aims to find ',\n",
       " 'patterns and relationships in data, and confirmatory data analysis (cda), which applies statistical ',\n",
       " 'techniques to determine whether hypotheses about a data set are true or false. eda is often ',\n",
       " 'compared to detective work, while cda is akin to the work of a judge or jury during a court trial -- a ',\n",
       " 'distinction first drawn by statistician john w. tukey in his 1977 book exploratory data analysis.  data ',\n",
       " 'analytics can also be separated into quantitative data analysis and qualitative data analysis. the ',\n",
       " 'former involves analysis of numerical data with quantifiable variables that can be compared or ',\n",
       " 'measured statistically. the qualitative approach is more interpretive -- it focuses on understanding ',\n",
       " 'the content of non-numerical data like text, images, audio and video, including common phrases, ',\n",
       " 'themes and points of view.']"
      ]
     },
     "execution_count": 8,
     "metadata": {},
     "output_type": "execute_result"
    }
   ],
   "source": [
    "# Split the paragraph based on 'next line character'\n",
    "lines = paragraph.split(\"\\n\")\n",
    "lines"
   ]
  },
  {
   "cell_type": "code",
   "execution_count": 9,
   "id": "4afb4cbb",
   "metadata": {},
   "outputs": [
    {
     "data": {
      "text/plain": [
       "22"
      ]
     },
     "execution_count": 9,
     "metadata": {},
     "output_type": "execute_result"
    }
   ],
   "source": [
    "len(lines)"
   ]
  },
  {
   "cell_type": "code",
   "execution_count": 10,
   "id": "86284745",
   "metadata": {},
   "outputs": [
    {
     "data": {
      "text/plain": [
       "[1, 0, 0, 1, 1, 1, 1, 0, 0, 1, 0, 1, 1, 1, 1, 0, 1, 1, 1, 0, 1, 0]"
      ]
     },
     "execution_count": 10,
     "metadata": {},
     "output_type": "execute_result"
    }
   ],
   "source": [
    "data_occur_list = [1 if \"data\" in line else 0 for line in lines]\n",
    "data_occur_list"
   ]
  },
  {
   "cell_type": "code",
   "execution_count": 11,
   "id": "b93563ba",
   "metadata": {},
   "outputs": [],
   "source": [
    "probability = np.mean(data_occur_list)"
   ]
  },
  {
   "cell_type": "code",
   "execution_count": 12,
   "id": "9f9cd597",
   "metadata": {},
   "outputs": [
    {
     "name": "stdout",
     "output_type": "stream",
     "text": [
      "Probability of the word “data” occurring in each line is: 0.636\n"
     ]
    }
   ],
   "source": [
    "print(f\"Probability of the word “data” occurring in each line is: {probability:.3f}\")"
   ]
  },
  {
   "cell_type": "markdown",
   "id": "bdb1cedf",
   "metadata": {},
   "source": [
    "### 3b) What is the distribution of distinct word counts across all the lines ?"
   ]
  },
  {
   "cell_type": "code",
   "execution_count": 13,
   "id": "68e2b995",
   "metadata": {},
   "outputs": [],
   "source": [
    "symbols = [\",\", \".\", \"-\", \"(\", \")\", \":\"]"
   ]
  },
  {
   "cell_type": "code",
   "execution_count": 14,
   "id": "e26cf463",
   "metadata": {},
   "outputs": [],
   "source": [
    "paragraph_new = paragraph"
   ]
  },
  {
   "cell_type": "code",
   "execution_count": 15,
   "id": "4b75a356",
   "metadata": {},
   "outputs": [],
   "source": [
    "for symbol in symbols:\n",
    "    paragraph_new = paragraph_new.replace(symbol, \"\")"
   ]
  },
  {
   "cell_type": "code",
   "execution_count": 16,
   "id": "c5c29e7b",
   "metadata": {},
   "outputs": [
    {
     "data": {
      "text/plain": [
       "\"as a term data analytics predominantly refers to an assortment of applications from basic business \\nintelligence bi reporting and online analytical processing olap to various forms of advanced \\nanalytics in that sense it's similar in nature to business analytics another umbrella term for \\napproaches to analyzing data  with the difference that the latter is oriented to business uses while \\ndata analytics has a broader focus the expansive view of the term isn't universal though in some \\ncases people use data analytics specifically to mean advanced analytics treating bi as a separate \\ncategory  data analytics initiatives can help businesses increase revenues improve operational \\nefficiency optimize marketing campaigns and customer service efforts respond more quickly to \\nemerging market trends and gain a competitive edge over rivals  all with the ultimate goal of \\nboosting business performance depending on the particular application the data that's analyzed \\ncan consist of either historical records or new information that has been processed for realtime \\nanalytics uses in addition it can come from a mix of internal systems and external data sources  at \\na high level data analytics methodologies include exploratory data analysis eda which aims to find \\npatterns and relationships in data and confirmatory data analysis cda which applies statistical \\ntechniques to determine whether hypotheses about a data set are true or false eda is often \\ncompared to detective work while cda is akin to the work of a judge or jury during a court trial  a \\ndistinction first drawn by statistician john w tukey in his 1977 book exploratory data analysis  data \\nanalytics can also be separated into quantitative data analysis and qualitative data analysis the \\nformer involves analysis of numerical data with quantifiable variables that can be compared or \\nmeasured statistically the qualitative approach is more interpretive  it focuses on understanding \\nthe content of nonnumerical data like text images audio and video including common phrases \\nthemes and points of view\""
      ]
     },
     "execution_count": 16,
     "metadata": {},
     "output_type": "execute_result"
    }
   ],
   "source": [
    "paragraph_new"
   ]
  },
  {
   "cell_type": "code",
   "execution_count": 17,
   "id": "f8258596",
   "metadata": {},
   "outputs": [
    {
     "data": {
      "text/plain": [
       "['as a term data analytics predominantly refers to an assortment of applications from basic business ',\n",
       " 'intelligence bi reporting and online analytical processing olap to various forms of advanced ',\n",
       " \"analytics in that sense it's similar in nature to business analytics another umbrella term for \",\n",
       " 'approaches to analyzing data  with the difference that the latter is oriented to business uses while ',\n",
       " \"data analytics has a broader focus the expansive view of the term isn't universal though in some \"]"
      ]
     },
     "execution_count": 17,
     "metadata": {},
     "output_type": "execute_result"
    }
   ],
   "source": [
    "new_lines = paragraph_new.split(\"\\n\")\n",
    "new_lines[:5]"
   ]
  },
  {
   "cell_type": "code",
   "execution_count": 18,
   "id": "98a42042",
   "metadata": {},
   "outputs": [
    {
     "name": "stdout",
     "output_type": "stream",
     "text": [
      "[16, 14, 14, 15, 17, 15, 12, 13, 17, 12, 16, 19, 15, 12, 17, 18, 16, 13, 15, 13, 15, 5]\n"
     ]
    }
   ],
   "source": [
    "unique_word_count_list = [len(set(line.split(\" \")))for line in new_lines]\n",
    "print(unique_word_count_list)"
   ]
  },
  {
   "cell_type": "code",
   "execution_count": 19,
   "id": "028c8973",
   "metadata": {},
   "outputs": [
    {
     "data": {
      "text/plain": [
       "count    22.000000\n",
       "mean     14.500000\n",
       "std       2.890872\n",
       "min       5.000000\n",
       "25%      13.000000\n",
       "50%      15.000000\n",
       "75%      16.000000\n",
       "max      19.000000\n",
       "dtype: float64"
      ]
     },
     "execution_count": 19,
     "metadata": {},
     "output_type": "execute_result"
    }
   ],
   "source": [
    "pd.Series(unique_word_count_list).describe()"
   ]
  },
  {
   "cell_type": "code",
   "execution_count": 20,
   "id": "94a85fc5",
   "metadata": {},
   "outputs": [],
   "source": [
    "import seaborn as sns\n",
    "import warnings\n",
    "warnings.filterwarnings(\"ignore\")"
   ]
  },
  {
   "cell_type": "code",
   "execution_count": 21,
   "id": "cf9ae13b",
   "metadata": {},
   "outputs": [
    {
     "data": {
      "image/png": "[encoded data removed]",
      "text/plain": [
       "<Figure size 432x288 with 1 Axes>"
      ]
     },
     "metadata": {
      "needs_background": "light"
     },
     "output_type": "display_data"
    }
   ],
   "source": [
    "df_unique_words = pd.DataFrame(unique_word_count_list)\n",
    "sns.distplot(unique_word_count_list, kde=True, rug=True);"
   ]
  },
  {
   "cell_type": "markdown",
   "id": "90251265",
   "metadata": {},
   "source": [
    "* NORMALLY DISTRIBUTED - to an extent."
   ]
  },
  {
   "cell_type": "markdown",
   "id": "4866a2e7",
   "metadata": {},
   "source": [
    "### 3c) What is the probability of the word “analytics” occurring after the word “data” ? "
   ]
  },
  {
   "cell_type": "code",
   "execution_count": 22,
   "id": "3e028ba4",
   "metadata": {},
   "outputs": [],
   "source": [
    "whole_paragraph = paragraph_new.replace(\"\\n\", \"\").replace(\"  \", \"\")"
   ]
  },
  {
   "cell_type": "code",
   "execution_count": 23,
   "id": "1713ef3c",
   "metadata": {},
   "outputs": [
    {
     "data": {
      "text/plain": [
       "\"as a term data analytics predominantly refers to an assortment of applications from basic business intelligence bi reporting and online analytical processing olap to various forms of advanced analytics in that sense it's similar in nature to business analytics another umbrella term for approaches to analyzing datawith the difference that the latter is oriented to business uses while data analytics has a broader focus the expansive view of the term isn't universal though in some cases people use data analytics specifically to mean advanced analytics treating bi as a separate categorydata analytics initiatives can help businesses increase revenues improve operational efficiency optimize marketing campaigns and customer service efforts respond more quickly to emerging market trends and gain a competitive edge over rivalsall with the ultimate goal of boosting business performance depending on the particular application the data that's analyzed can consist of either historical records or new information that has been processed for realtime analytics uses in addition it can come from a mix of internal systems and external data sourcesat a high level data analytics methodologies include exploratory data analysis eda which aims to find patterns and relationships in data and confirmatory data analysis cda which applies statistical techniques to determine whether hypotheses about a data set are true or false eda is often compared to detective work while cda is akin to the work of a judge or jury during a court triala distinction first drawn by statistician john w tukey in his 1977 book exploratory data analysisdata analytics can also be separated into quantitative data analysis and qualitative data analysis the former involves analysis of numerical data with quantifiable variables that can be compared or measured statistically the qualitative approach is more interpretiveit focuses on understanding the content of nonnumerical data like text images audio and video including common phrases themes and points of view\""
      ]
     },
     "execution_count": 23,
     "metadata": {},
     "output_type": "execute_result"
    }
   ],
   "source": [
    "whole_paragraph"
   ]
  },
  {
   "cell_type": "code",
   "execution_count": 24,
   "id": "939044c0",
   "metadata": {},
   "outputs": [
    {
     "data": {
      "text/plain": [
       "0.3333333333333333"
      ]
     },
     "execution_count": 24,
     "metadata": {},
     "output_type": "execute_result"
    }
   ],
   "source": [
    "whole_paragraph.count(\"data analytics\") / whole_paragraph.count(\"data\")"
   ]
  },
  {
   "cell_type": "code",
   "execution_count": null,
   "id": "ec04e790",
   "metadata": {},
   "outputs": [],
   "source": []
  }
 ],
 "metadata": {
  "kernelspec": {
   "display_name": "Python 3",
   "language": "python",
   "name": "python3"
  },
  "language_info": {
   "codemirror_mode": {
    "name": "ipython",
    "version": 3
   },
   "file_extension": ".py",
   "mimetype": "text/x-python",
   "name": "python",
   "nbconvert_exporter": "python",
   "pygments_lexer": "ipython3",
   "version": "3.9.1"
  }
 },
 "nbformat": 4,
 "nbformat_minor": 5
}
